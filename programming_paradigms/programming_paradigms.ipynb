{
  "nbformat": 4,
  "nbformat_minor": 0,
  "metadata": {
    "colab": {
      "provenance": []
    },
    "kernelspec": {
      "name": "python3",
      "display_name": "Python 3"
    },
    "language_info": {
      "name": "python"
    }
  },
  "cells": [
    {
      "cell_type": "markdown",
      "source": [
        "## Procedural Programming"
      ],
      "metadata": {
        "id": "vv-rxxL7pEJw"
      }
    },
    {
      "cell_type": "code",
      "source": [
        "print('Hello')\n",
        "def calculate_average_proc(numbers):\n",
        "    total = 0\n",
        "    for num in numbers:\n",
        "        total += num\n",
        "    return total / len(numbers)\n",
        "\n",
        "\n",
        "numbers = [10, 20, 30, 40, 50]\n",
        "avg = calculate_average_proc(numbers)\n",
        "print(f\"Procedural Average: {avg:.2f}\")"
      ],
      "metadata": {
        "colab": {
          "base_uri": "https://localhost:8080/"
        },
        "id": "QK-wr3hKpBGh",
        "outputId": "9757d880-4fdd-4221-bea3-ae3e181cb21a"
      },
      "execution_count": 1,
      "outputs": [
        {
          "output_type": "stream",
          "name": "stdout",
          "text": [
            "Hello\n",
            "Procedural Average: 30.00\n"
          ]
        }
      ]
    },
    {
      "cell_type": "markdown",
      "source": [
        "## Functional Programming"
      ],
      "metadata": {
        "id": "GTGJxn1HpQRe"
      }
    },
    {
      "cell_type": "code",
      "source": [
        "\n",
        "from functools import reduce\n",
        "\n",
        "def calculate_average_func(numbers):\n",
        "    return reduce(lambda x, y: x + y, numbers) / len(numbers)\n",
        "\n",
        "def functional_example():\n",
        "    numbers = [10, 20, 30, 40, 50]\n",
        "    avg = calculate_average_func(numbers)\n",
        "    return f\"Functional Average: {avg:.2f}\"\n",
        "\n",
        "functional_example()"
      ],
      "metadata": {
        "colab": {
          "base_uri": "https://localhost:8080/",
          "height": 36
        },
        "id": "IegdQpkHpI8D",
        "outputId": "0414ee36-7bec-4c80-f3e7-d3e239f90165"
      },
      "execution_count": 2,
      "outputs": [
        {
          "output_type": "execute_result",
          "data": {
            "text/plain": [
              "'Functional Average: 30.00'"
            ],
            "application/vnd.google.colaboratory.intrinsic+json": {
              "type": "string"
            }
          },
          "metadata": {},
          "execution_count": 2
        }
      ]
    },
    {
      "cell_type": "markdown",
      "source": [
        "## Object-Oriented Programming"
      ],
      "metadata": {
        "id": "Mt1zMBGXpOgn"
      }
    },
    {
      "cell_type": "code",
      "source": [
        "class NumberList:\n",
        "    def __init__(self, numbers):\n",
        "        self.numbers = numbers\n",
        "\n",
        "    def calculate_average(self):\n",
        "        return sum(self.numbers) / len(self.numbers)\n",
        "\n",
        "numbers = NumberList([10, 20, 30, 40, 50])\n",
        "avg = numbers.calculate_average()\n",
        "print(f\"OOP Average: {avg:.2f}\")"
      ],
      "metadata": {
        "colab": {
          "base_uri": "https://localhost:8080/"
        },
        "id": "-lus32nWpLl0",
        "outputId": "91fe16fe-d9b1-4084-d8bd-b9ab61d84482"
      },
      "execution_count": 3,
      "outputs": [
        {
          "output_type": "stream",
          "name": "stdout",
          "text": [
            "OOP Average: 30.00\n"
          ]
        }
      ]
    },
    {
      "cell_type": "code",
      "source": [],
      "metadata": {
        "id": "iy4sbpqKqTqH"
      },
      "execution_count": null,
      "outputs": []
    }
  ]
}