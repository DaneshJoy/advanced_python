{
  "nbformat": 4,
  "nbformat_minor": 0,
  "metadata": {
    "colab": {
      "provenance": []
    },
    "kernelspec": {
      "name": "python3",
      "display_name": "Python 3"
    },
    "language_info": {
      "name": "python"
    }
  },
  "cells": [
    {
      "cell_type": "code",
      "execution_count": 12,
      "metadata": {
        "id": "eZi9BkslRQT9"
      },
      "outputs": [],
      "source": [
        "import time\n",
        "import queue\n",
        "import threading"
      ]
    },
    {
      "cell_type": "code",
      "source": [
        "def worker(name, count):\n",
        "    for i in range(count):\n",
        "        print(f'{name} {i}')\n",
        "        time.sleep(1)"
      ],
      "metadata": {
        "id": "yQBa9MrfRyXT"
      },
      "execution_count": 2,
      "outputs": []
    },
    {
      "cell_type": "markdown",
      "source": [
        "## Run without thread (blocking)"
      ],
      "metadata": {
        "id": "S46cKbjiSChr"
      }
    },
    {
      "cell_type": "code",
      "source": [
        "worker('Task A', 3)\n",
        "worker('Task B', 3)"
      ],
      "metadata": {
        "colab": {
          "base_uri": "https://localhost:8080/"
        },
        "id": "xrJiKMmOSBRT",
        "outputId": "b38e7238-d39e-40fc-919c-7615f84dc674"
      },
      "execution_count": 4,
      "outputs": [
        {
          "output_type": "stream",
          "name": "stdout",
          "text": [
            "Task A 0\n",
            "Task A 1\n",
            "Task A 2\n",
            "Task B 0\n",
            "Task B 1\n",
            "Task B 2\n"
          ]
        }
      ]
    },
    {
      "cell_type": "markdown",
      "source": [
        "## Running with Threads"
      ],
      "metadata": {
        "id": "WlKcr5dFSdHp"
      }
    },
    {
      "cell_type": "code",
      "source": [
        "t1 = threading.Thread(target=worker, args=('Task A', 3))\n",
        "t2 = threading.Thread(target=worker, args=('Task B', 3))"
      ],
      "metadata": {
        "id": "TzXvo0lgSQAY"
      },
      "execution_count": 9,
      "outputs": []
    },
    {
      "cell_type": "code",
      "source": [
        "t1.start()\n",
        "t2.start()\n",
        "\n",
        "t1.join()\n",
        "t2.join()\n",
        "\n",
        "print('Both Finished')"
      ],
      "metadata": {
        "colab": {
          "base_uri": "https://localhost:8080/"
        },
        "id": "lXvUbyl4S4KO",
        "outputId": "4bb16175-1ff6-4a11-ed66-c08048323e4b"
      },
      "execution_count": 10,
      "outputs": [
        {
          "output_type": "stream",
          "name": "stdout",
          "text": [
            "Task A 0\n",
            "Task B 0\n",
            "Task A 1\n",
            "Task B 1\n",
            "Task A 2\n",
            "Task B 2\n",
            "Both Finished\n"
          ]
        }
      ]
    },
    {
      "cell_type": "markdown",
      "source": [
        "## Using Locks"
      ],
      "metadata": {
        "id": "O-l9fxRYT4bD"
      }
    },
    {
      "cell_type": "code",
      "source": [
        "lock = threading.Lock()\n",
        "\n",
        "def safe_worker(name, count):\n",
        "    for i in range(count):\n",
        "        with lock:\n",
        "            print(f'{name} {i}')\n",
        "        time.sleep(1)\n",
        "\n",
        "t1 = threading.Thread(target=safe_worker, args=('Task A', 3))\n",
        "t2 = threading.Thread(target=safe_worker, args=('Task B', 3))\n",
        "\n",
        "t1.start()\n",
        "t2.start()\n",
        "t1.join()\n",
        "t2.join()"
      ],
      "metadata": {
        "colab": {
          "base_uri": "https://localhost:8080/"
        },
        "id": "-fDKR8aPS7le",
        "outputId": "cab207a1-60ff-44af-ff4b-79997ab2beea"
      },
      "execution_count": 11,
      "outputs": [
        {
          "output_type": "stream",
          "name": "stdout",
          "text": [
            "Task A 0\n",
            "Task B 0\n",
            "Task A 1\n",
            "Task B 1\n",
            "Task A 2\n",
            "Task B 2\n"
          ]
        }
      ]
    },
    {
      "cell_type": "markdown",
      "source": [
        "## Thread Queues"
      ],
      "metadata": {
        "id": "RIP6jDJ2U4I8"
      }
    },
    {
      "cell_type": "code",
      "source": [
        "def producer(q):\n",
        "    for i in range(5):\n",
        "        item = f'Item {i}'\n",
        "        q.put(item)\n",
        "        print(f'Produced {item}')\n",
        "        time.sleep(0.5)\n",
        "\n",
        "def consumer(q):\n",
        "    while True:\n",
        "        try:\n",
        "            item = q.get(timeout=2)\n",
        "            print(f'Consumed {item}')\n",
        "        except queue.Empty:\n",
        "            break"
      ],
      "metadata": {
        "id": "Fu4hQNEsUgr5"
      },
      "execution_count": 14,
      "outputs": []
    },
    {
      "cell_type": "code",
      "source": [
        "q = queue.Queue()\n",
        "t1 = threading.Thread(target=producer, args=(q,))\n",
        "t2 = threading.Thread(target=consumer, args=(q,))\n",
        "\n",
        "t1.start()\n",
        "t2.start()\n",
        "\n",
        "t1.join()\n",
        "t2.join()"
      ],
      "metadata": {
        "colab": {
          "base_uri": "https://localhost:8080/"
        },
        "id": "MKCjerGfVcEc",
        "outputId": "652251db-cdeb-422f-ed04-7d5cf76d6762"
      },
      "execution_count": 16,
      "outputs": [
        {
          "output_type": "stream",
          "name": "stdout",
          "text": [
            "Produced Item 0\n",
            "Consumed Item 0\n",
            "Produced Item 1\n",
            "Consumed Item 1\n",
            "Produced Item 2Consumed Item 2\n",
            "\n",
            "Produced Item 3Consumed Item 3\n",
            "\n",
            "Produced Item 4Consumed Item 4\n",
            "\n"
          ]
        }
      ]
    },
    {
      "cell_type": "markdown",
      "source": [
        "## Threading Event"
      ],
      "metadata": {
        "id": "OWmwhjXmZGb6"
      }
    },
    {
      "cell_type": "code",
      "source": [
        "def worker(run_event):\n",
        "    while run_event.is_set():\n",
        "        print('Working...')\n",
        "        time.sleep(1)\n",
        "    print('Stopped')\n",
        "\n",
        "run_event = threading.Event()\n",
        "run_event.set()\n",
        "t1 = threading.Thread(target=worker, args=(run_event,))\n",
        "\n",
        "t1.start()\n",
        "\n",
        "time.sleep(5)\n",
        "run_event.clear()\n",
        "print('Thread Stopped')\n",
        "\n",
        "t1.join()\n",
        "print('Thread Finished')"
      ],
      "metadata": {
        "colab": {
          "base_uri": "https://localhost:8080/"
        },
        "id": "Bp49WF41Vmq1",
        "outputId": "a12a7376-6f57-46d5-b051-068f92683936"
      },
      "execution_count": 20,
      "outputs": [
        {
          "output_type": "stream",
          "name": "stdout",
          "text": [
            "Working...\n",
            "Working...\n",
            "Working...\n",
            "Working...\n",
            "Working...\n",
            "Thread Stopped\n",
            "Stopped\n",
            "Thread Finished\n"
          ]
        }
      ]
    },
    {
      "cell_type": "code",
      "source": [],
      "metadata": {
        "id": "EbopnGqBZ6xP"
      },
      "execution_count": null,
      "outputs": []
    }
  ]
}