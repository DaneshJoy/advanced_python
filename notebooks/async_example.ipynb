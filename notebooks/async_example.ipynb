{
  "nbformat": 4,
  "nbformat_minor": 0,
  "metadata": {
    "colab": {
      "provenance": []
    },
    "kernelspec": {
      "name": "python3",
      "display_name": "Python 3"
    },
    "language_info": {
      "name": "python"
    }
  },
  "cells": [
    {
      "cell_type": "markdown",
      "source": [
        "# Async Example"
      ],
      "metadata": {
        "id": "II89VxWc7jzR"
      }
    },
    {
      "cell_type": "code",
      "source": [
        "import asyncio"
      ],
      "metadata": {
        "id": "ujny1lXNAX4Q"
      },
      "execution_count": 1,
      "outputs": []
    },
    {
      "cell_type": "code",
      "execution_count": 2,
      "metadata": {
        "id": "Qf9286wj-tcv"
      },
      "outputs": [],
      "source": [
        "async def producer(queue):\n",
        "    for i in range(1_000_000):\n",
        "        await queue.put(f\"Item {i}\")\n",
        "        print(f\"Produced Item {i}\")\n",
        "        await asyncio.sleep(1)"
      ]
    },
    {
      "cell_type": "code",
      "source": [
        "async def consumer(queue, n_samples=10, consumer_id=0):\n",
        "    for i in range(n_samples):\n",
        "        item = await queue.get()\n",
        "        if item is None:\n",
        "            break\n",
        "        print(f\"Consumer {consumer_id} Consumed {item}\")\n",
        "        queue.task_done()  # optional"
      ],
      "metadata": {
        "id": "V_lUO6XpAiFO"
      },
      "execution_count": 6,
      "outputs": []
    },
    {
      "cell_type": "markdown",
      "source": [
        "## Single Consumer"
      ],
      "metadata": {
        "id": "SZ4JYH8I7m0G"
      }
    },
    {
      "cell_type": "code",
      "source": [
        "async def run_async_single():\n",
        "    queue = asyncio.Queue()\n",
        "    producer_task = asyncio.create_task(producer(queue))\n",
        "    consumer_task = asyncio.create_task(consumer(queue, n_samples=4))\n",
        "    await consumer_task\n",
        "    producer_task.cancel()"
      ],
      "metadata": {
        "id": "vodWHdQMBS8Q"
      },
      "execution_count": 4,
      "outputs": []
    },
    {
      "cell_type": "code",
      "source": [
        "# This will cause error on Colab/Notebook\n",
        "# asyncio.run(main())"
      ],
      "metadata": {
        "id": "wh1A45e2B173"
      },
      "execution_count": null,
      "outputs": []
    },
    {
      "cell_type": "code",
      "source": [
        "await run_async_single()"
      ],
      "metadata": {
        "colab": {
          "base_uri": "https://localhost:8080/"
        },
        "id": "4A7wzgWHB4PE",
        "outputId": "7da63de6-9ef0-444e-8d31-ed1c16328cc4"
      },
      "execution_count": 5,
      "outputs": [
        {
          "output_type": "stream",
          "name": "stdout",
          "text": [
            "Produced Item 0\n",
            "Consumed Item 0\n",
            "Produced Item 1\n",
            "Consumed Item 1\n",
            "Produced Item 2\n",
            "Consumed Item 2\n",
            "Produced Item 3\n",
            "Consumed Item 3\n"
          ]
        }
      ]
    },
    {
      "cell_type": "markdown",
      "source": [
        "## Multiple Consumers"
      ],
      "metadata": {
        "id": "qIwv_HCI7wgp"
      }
    },
    {
      "cell_type": "code",
      "source": [
        "async def run_async_multiple(n_consumers=4):\n",
        "    q = asyncio.Queue()\n",
        "    producer_task = asyncio.create_task(producer(q))\n",
        "    consumers = [asyncio.create_task(consumer(q, 4, cid)) for cid in range(n_consumers)]\n",
        "    await asyncio.gather(*consumers)\n",
        "    producer_task.cancel()"
      ],
      "metadata": {
        "id": "5SaAI3YW4VM3"
      },
      "execution_count": 14,
      "outputs": []
    },
    {
      "cell_type": "code",
      "source": [
        "await run_async_multiple()"
      ],
      "metadata": {
        "id": "DYTAkmKmCKx8",
        "colab": {
          "base_uri": "https://localhost:8080/"
        },
        "outputId": "df895a46-ae53-409c-d53a-4e45c8ce4519"
      },
      "execution_count": 15,
      "outputs": [
        {
          "output_type": "stream",
          "name": "stdout",
          "text": [
            "Produced Item 0\n",
            "Consumer 0 Consumed Item 0\n",
            "Produced Item 1\n",
            "Consumer 0 Consumed Item 1\n",
            "Produced Item 2\n",
            "Consumer 1 Consumed Item 2\n",
            "Produced Item 3\n",
            "Consumer 2 Consumed Item 3\n",
            "Produced Item 4\n",
            "Consumer 3 Consumed Item 4\n",
            "Produced Item 5\n",
            "Consumer 0 Consumed Item 5\n",
            "Produced Item 6\n",
            "Consumer 1 Consumed Item 6\n",
            "Produced Item 7\n",
            "Consumer 2 Consumed Item 7\n",
            "Produced Item 8\n",
            "Consumer 3 Consumed Item 8\n",
            "Produced Item 9\n",
            "Consumer 0 Consumed Item 9\n",
            "Produced Item 10\n",
            "Consumer 1 Consumed Item 10\n",
            "Produced Item 11\n",
            "Consumer 2 Consumed Item 11\n",
            "Produced Item 12\n",
            "Consumer 3 Consumed Item 12\n",
            "Produced Item 13\n",
            "Consumer 1 Consumed Item 13\n",
            "Produced Item 14\n",
            "Consumer 2 Consumed Item 14\n",
            "Produced Item 15\n",
            "Consumer 3 Consumed Item 15\n"
          ]
        }
      ]
    },
    {
      "cell_type": "markdown",
      "source": [
        "## Multiple Consumers (pub-sub method)"
      ],
      "metadata": {
        "id": "zxboCuxr5fQu"
      }
    },
    {
      "cell_type": "code",
      "source": [
        "async def producer_pubsub(queues):\n",
        "    for i in range(1_000_000):\n",
        "        for q in queues:\n",
        "            await q.put(f\"Item {i}\")\n",
        "        print(f\"Produced Item {i}\")\n",
        "        await asyncio.sleep(1)"
      ],
      "metadata": {
        "id": "PEJoutS65JGP"
      },
      "execution_count": 10,
      "outputs": []
    },
    {
      "cell_type": "code",
      "source": [
        "async def consumer_pubsub(queue, n_samples=10, consumer_id=0):\n",
        "    for i in range(n_samples):\n",
        "        item = await queue.get()\n",
        "        if item is None:\n",
        "            break\n",
        "        print(f\"Consumer {consumer_id} Consumed {item}\")\n",
        "        queue.task_done()"
      ],
      "metadata": {
        "id": "pMZYors-6OBV"
      },
      "execution_count": 11,
      "outputs": []
    },
    {
      "cell_type": "code",
      "source": [
        "async def run_async_pubsub(n_consumers=4):\n",
        "    queues = [asyncio.Queue() for _ in range(n_consumers)]\n",
        "    producer_task = asyncio.create_task(producer_pubsub(queues))\n",
        "    consumers = [asyncio.create_task(consumer_pubsub(q, 4, cid)) for cid, q in enumerate(queues)]\n",
        "    await asyncio.gather(*consumers)\n",
        "\n",
        "    for q in queues:\n",
        "        await q.join()\n",
        "\n",
        "    for c in consumers:\n",
        "        c.cancel()\n",
        "\n",
        "    producer_task.cancel()"
      ],
      "metadata": {
        "id": "A6gdD97C6aeZ"
      },
      "execution_count": 12,
      "outputs": []
    },
    {
      "cell_type": "code",
      "source": [
        "await run_async_pubsub(n_consumers=2)"
      ],
      "metadata": {
        "colab": {
          "base_uri": "https://localhost:8080/"
        },
        "id": "YbYmFGyd7R2z",
        "outputId": "c43cdebc-ea42-4f6a-896b-71d0a73180aa"
      },
      "execution_count": 13,
      "outputs": [
        {
          "output_type": "stream",
          "name": "stdout",
          "text": [
            "Produced Item 0\n",
            "Consumer 0 Consumed Item 0\n",
            "Consumer 1 Consumed Item 0\n",
            "Produced Item 1\n",
            "Consumer 0 Consumed Item 1\n",
            "Consumer 1 Consumed Item 1\n",
            "Produced Item 2\n",
            "Consumer 0 Consumed Item 2\n",
            "Consumer 1 Consumed Item 2\n",
            "Produced Item 3\n",
            "Consumer 0 Consumed Item 3\n",
            "Consumer 1 Consumed Item 3\n"
          ]
        }
      ]
    },
    {
      "cell_type": "code",
      "source": [],
      "metadata": {
        "id": "_9dbkz8e7W9M"
      },
      "execution_count": null,
      "outputs": []
    }
  ]
}