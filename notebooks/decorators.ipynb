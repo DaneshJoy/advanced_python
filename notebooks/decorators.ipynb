{
  "nbformat": 4,
  "nbformat_minor": 0,
  "metadata": {
    "colab": {
      "provenance": []
    },
    "kernelspec": {
      "name": "python3",
      "display_name": "Python 3"
    },
    "language_info": {
      "name": "python"
    }
  },
  "cells": [
    {
      "cell_type": "markdown",
      "source": [
        "# Python Decorators\n",
        "> Functions, Methods, Classes, Metaclasses"
      ],
      "metadata": {
        "id": "zN4y1SFeoGFR"
      }
    },
    {
      "cell_type": "markdown",
      "source": [
        "## 1. Function Decorator\n",
        "\n",
        "A simple decorator for functions:"
      ],
      "metadata": {
        "id": "VNv7mlUboN_f"
      }
    },
    {
      "cell_type": "code",
      "source": [
        "def logger(func):\n",
        "    def wrapper(*args, **kwargs):\n",
        "        print(f\"Calling {func.__name__}\")\n",
        "        return func(*args, **kwargs)\n",
        "    return wrapper\n",
        "\n",
        "@logger\n",
        "def greet(name):\n",
        "    print(f\"Hello, {name}!\")\n",
        "\n",
        "greet(\"Saeed\")"
      ],
      "metadata": {
        "colab": {
          "base_uri": "https://localhost:8080/"
        },
        "id": "C7Xo3Bm-oDrp",
        "outputId": "d58f1e0b-1452-4cbc-e69f-3a65adc998d3"
      },
      "execution_count": 1,
      "outputs": [
        {
          "output_type": "stream",
          "name": "stdout",
          "text": [
            "Calling greet\n",
            "Hello, Saeed!\n"
          ]
        }
      ]
    },
    {
      "cell_type": "markdown",
      "source": [
        "## 2. Method Decorator\n",
        "\n",
        "You can also decorate methods inside classes:"
      ],
      "metadata": {
        "id": "fztT2kwwoSH4"
      }
    },
    {
      "cell_type": "code",
      "source": [
        "def debug(func):\n",
        "    def wrapper(*args, **kwargs):\n",
        "        print(f\"{func.__name__} called with {args[1:]}, {kwargs}\")\n",
        "        return func(*args, **kwargs)\n",
        "    return wrapper\n",
        "\n",
        "class Math:\n",
        "    @debug\n",
        "    def add(self, a, b):\n",
        "        return a + b\n",
        "\n",
        "m = Math()\n",
        "print(m.add(3, 4))"
      ],
      "metadata": {
        "colab": {
          "base_uri": "https://localhost:8080/"
        },
        "id": "48UAh2U8oUgA",
        "outputId": "f25fc375-c909-40de-a803-7ecba5851fbb"
      },
      "execution_count": 2,
      "outputs": [
        {
          "output_type": "stream",
          "name": "stdout",
          "text": [
            "add called with (3, 4), {}\n",
            "7\n"
          ]
        }
      ]
    },
    {
      "cell_type": "markdown",
      "source": [
        "## 3. Class Decorator (Function Style)\n",
        "\n",
        "A decorator that modifies a class:"
      ],
      "metadata": {
        "id": "5n0Lg5a8oYe4"
      }
    },
    {
      "cell_type": "code",
      "source": [
        "def add_repr(cls):\n",
        "    def __repr__(self):\n",
        "        return f\"<{cls.__name__}({self.__dict__})>\"\n",
        "    cls.__repr__ = __repr__\n",
        "    return cls\n",
        "\n",
        "@add_repr\n",
        "class Person:\n",
        "    def __init__(self, name, age):\n",
        "        self.name, self.age = name, age\n",
        "\n",
        "p = Person(\"Saeed\", 35)\n",
        "print(p)"
      ],
      "metadata": {
        "colab": {
          "base_uri": "https://localhost:8080/"
        },
        "id": "x8B0TXd8obZF",
        "outputId": "ee2ed4a6-8f05-4ab2-a27b-96123b6120b2"
      },
      "execution_count": 3,
      "outputs": [
        {
          "output_type": "stream",
          "name": "stdout",
          "text": [
            "<Person({'name': 'Saeed', 'age': 35})>\n"
          ]
        }
      ]
    },
    {
      "cell_type": "markdown",
      "source": [
        "## 4. Class-Based Function Decorator\n",
        "\n",
        "Using a class as a decorator for functions:"
      ],
      "metadata": {
        "id": "DKy3fXjnofnO"
      }
    },
    {
      "cell_type": "code",
      "source": [
        "class Logger:\n",
        "    def __init__(self, func):\n",
        "        self.func = func\n",
        "    def __call__(self, *args, **kwargs):\n",
        "        print(f\"Calling {self.func.__name__}\")\n",
        "        return self.func(*args, **kwargs)\n",
        "\n",
        "@Logger\n",
        "def greet(name):\n",
        "    print(f\"Hello, {name}!\")\n",
        "\n",
        "greet(\"Saeed\")"
      ],
      "metadata": {
        "colab": {
          "base_uri": "https://localhost:8080/"
        },
        "id": "PwMJZ2xkohwE",
        "outputId": "086d9eed-fe17-4a78-ef1e-76144278559c"
      },
      "execution_count": 4,
      "outputs": [
        {
          "output_type": "stream",
          "name": "stdout",
          "text": [
            "Calling greet\n",
            "Hello, Saeed!\n"
          ]
        }
      ]
    },
    {
      "cell_type": "markdown",
      "source": [
        "## 5. Class-Based Class Decorator (Wrapper Style)\n",
        "\n",
        "Wrapping a class with another class:"
      ],
      "metadata": {
        "id": "uNhj8zWbojik"
      }
    },
    {
      "cell_type": "code",
      "source": [
        "class AddRepr:\n",
        "    def __init__(self, cls):\n",
        "        self.cls = cls\n",
        "    def __call__(self, *args, **kwargs):\n",
        "        obj = self.cls(*args, **kwargs)\n",
        "        obj.__repr__ = lambda self=obj: f\"<{self.cls.__name__}({self.__dict__})>\"\n",
        "        return obj\n",
        "\n",
        "@AddRepr\n",
        "class Person:\n",
        "    def __init__(self, name, age):\n",
        "        self.name, self.age = name, age\n",
        "\n",
        "p = Person(\"Saeed\", 35)\n",
        "print(p)"
      ],
      "metadata": {
        "colab": {
          "base_uri": "https://localhost:8080/"
        },
        "id": "98JdHnZcomsc",
        "outputId": "6b757f71-27cf-47e9-b6b6-fe5b8df4b96e"
      },
      "execution_count": 5,
      "outputs": [
        {
          "output_type": "stream",
          "name": "stdout",
          "text": [
            "<__main__.Person object at 0x79ab29827aa0>\n"
          ]
        }
      ]
    },
    {
      "cell_type": "markdown",
      "source": [
        "## 6. Class-Based Class Decorator (Subclass Style)\n",
        "\n",
        "Subclassing the target class dynamically:"
      ],
      "metadata": {
        "id": "sUON7gnCoovv"
      }
    },
    {
      "cell_type": "code",
      "source": [
        "class AddRepr:\n",
        "    def __init__(self, cls):\n",
        "        self.cls = cls\n",
        "    def __call__(self, *args, **kwargs):\n",
        "        cls = self.cls   # capture in closure\n",
        "        class Wrapped(cls):\n",
        "            def __repr__(self):\n",
        "                return f\"<{cls.__name__}({self.__dict__})>\"\n",
        "        return Wrapped(*args, **kwargs)\n",
        "\n",
        "@AddRepr\n",
        "class Person:\n",
        "    def __init__(self, name, age):\n",
        "        self.name, self.age = name, age\n",
        "\n",
        "p = Person(\"Saeed\", 35)\n",
        "print(p)"
      ],
      "metadata": {
        "colab": {
          "base_uri": "https://localhost:8080/"
        },
        "id": "pfCzcb3uorZG",
        "outputId": "2e8cb8f9-a47c-4c63-ef2c-4d067bf8607f"
      },
      "execution_count": 12,
      "outputs": [
        {
          "output_type": "stream",
          "name": "stdout",
          "text": [
            "<Person({'name': 'Saeed', 'age': 35})>\n"
          ]
        }
      ]
    },
    {
      "cell_type": "markdown",
      "source": [
        "## 7. Metaclass Approach\n",
        "\n",
        "Decorating via a metaclass:"
      ],
      "metadata": {
        "id": "8S3O1bWLqX2-"
      }
    },
    {
      "cell_type": "code",
      "source": [
        "class ReprMeta(type):\n",
        "    def __new__(mcls, name, bases, namespace):\n",
        "        if \"__repr__\" not in namespace:\n",
        "            def __repr__(self):\n",
        "                return f\"<{name}({self.__dict__})>\"\n",
        "            namespace[\"__repr__\"] = __repr__\n",
        "        return super().__new__(mcls, name, bases, namespace)\n",
        "\n",
        "class Person(metaclass=ReprMeta):\n",
        "    def __init__(self, name, age):\n",
        "        self.name, self.age = name, age\n",
        "\n",
        "p = Person(\"Saeed\", 35)\n",
        "print(p)"
      ],
      "metadata": {
        "colab": {
          "base_uri": "https://localhost:8080/"
        },
        "id": "Xgh1pBXgo9mw",
        "outputId": "f091ba8f-8b75-4007-9a60-b3d725e42f6f"
      },
      "execution_count": 8,
      "outputs": [
        {
          "output_type": "stream",
          "name": "stdout",
          "text": [
            "<Person({'name': 'Saeed', 'age': 35})>\n"
          ]
        }
      ]
    },
    {
      "cell_type": "markdown",
      "source": [
        "## 8. Combining Metaclass + Decorator\n",
        "\n",
        "Mixing both worlds:"
      ],
      "metadata": {
        "id": "CVZkIbevo_Mu"
      }
    },
    {
      "cell_type": "code",
      "source": [
        "class ReprMeta(type):\n",
        "    def __new__(mcls, name, bases, namespace):\n",
        "        if \"__repr__\" not in namespace:\n",
        "            def __repr__(self):\n",
        "                return f\"<{name}({self.__dict__})>\"\n",
        "            namespace[\"__repr__\"] = __repr__\n",
        "        return super().__new__(mcls, name, bases, namespace)\n",
        "\n",
        "def add_to_dict(cls):\n",
        "    def to_dict(self): return dict(self.__dict__)\n",
        "    cls.to_dict = to_dict\n",
        "    return cls\n",
        "\n",
        "@add_to_dict\n",
        "class Person(metaclass=ReprMeta):\n",
        "    def __init__(self, name, age):\n",
        "        self.name, self.age = name, age\n",
        "\n",
        "p = Person(\"Saeed\", 35)\n",
        "print(p)           # __repr__ from metaclass\n",
        "print(p.to_dict()) # to_dict from decorator"
      ],
      "metadata": {
        "colab": {
          "base_uri": "https://localhost:8080/"
        },
        "id": "Ue4sZoXmpCel",
        "outputId": "1ba8675d-1086-4cf0-ff2a-debb5e902f1f"
      },
      "execution_count": 9,
      "outputs": [
        {
          "output_type": "stream",
          "name": "stdout",
          "text": [
            "<Person({'name': 'Saeed', 'age': 35})>\n",
            "{'name': 'Saeed', 'age': 35}\n"
          ]
        }
      ]
    },
    {
      "cell_type": "markdown",
      "source": [
        "✅ With these steps, you now have a complete tour of **function decorators, method decorators, class decorators (function + class-based), subclassing decorators, preserving identity, metaclasses, and combining them.**\n",
        "\n",
        "---\n"
      ],
      "metadata": {
        "id": "eGx9dWYzn6X-"
      }
    },
    {
      "cell_type": "code",
      "execution_count": null,
      "metadata": {
        "id": "4QH9GZMon4nv"
      },
      "outputs": [],
      "source": []
    }
  ]
}